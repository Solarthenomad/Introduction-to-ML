{
 "cells": [
  {
   "cell_type": "markdown",
   "id": "ce3f2731",
   "metadata": {},
   "source": [
    "# 5. K-Means"
   ]
  },
  {
   "cell_type": "code",
   "execution_count": null,
   "id": "8c904337",
   "metadata": {},
   "outputs": [],
   "source": [
    "import numpy as np\n",
    "import matplotlib.pylot as plt\n",
    "import pandas as pd"
   ]
  },
  {
   "cell_type": "code",
   "execution_count": null,
   "id": "a9bb163c",
   "metadata": {},
   "outputs": [],
   "source": [
    "dataset = pd.read_csv('KMeansData.csv')\n",
    "dataset[:5] #위의 5개의 행만큼의 데이터 셋을 가져옴"
   ]
  },
  {
   "cell_type": "code",
   "execution_count": null,
   "id": "b4b47acb",
   "metadata": {},
   "outputs": [],
   "source": [
    "X = dataset.iloc[:,:].values\n",
    "y = dataset.iloc[].values\n",
    "X[:5]"
   ]
  },
  {
   "cell_type": "markdown",
   "id": "22abb794",
   "metadata": {},
   "source": [
    "### 데이터 시각화(전체 데이터 분포 확인)"
   ]
  },
  {
   "cell_type": "code",
   "execution_count": null,
   "id": "69d861e5",
   "metadata": {},
   "outputs": [],
   "source": [
    "plt.scatter(X[:,0], X[:,1]) #X축은 시간 ,y축은 점수\n",
    "plt.title('Score by hours')\n",
    "plt.xlabel('hours')\n",
    "plt.ylabel('socre')\n",
    "plt.show()"
   ]
  },
  {
   "cell_type": "markdown",
   "id": "bd22defc",
   "metadata": {},
   "source": [
    "### 피처 스케일링(Feature Scaling)"
   ]
  },
  {
   "cell_type": "code",
   "execution_count": null,
   "id": "fc866f71",
   "metadata": {},
   "outputs": [],
   "source": [
    "from sklearn.preprocessing import StandardScaler\n",
    "sc = StandardScaler()\n",
    "X = sc.fit_transform(X)\n",
    "X[:5]"
   ]
  },
  {
   "cell_type": "markdown",
   "id": "26d31d77",
   "metadata": {},
   "source": [
    "### 데이터 시각화(스케일링된 데이터)"
   ]
  },
  {
   "cell_type": "code",
   "execution_count": null,
   "id": "697b0fc4",
   "metadata": {},
   "outputs": [],
   "source": [
    "plt.figure(figsize = (5,5))\n",
    "plt.scatter(X[:,0], X[:,1]) #X축은 시간 ,y축은 점수\n",
    "plt.title('Score by hours')\n",
    "plt.xlabel('hours')\n",
    "plt.ylabel('socre')\n",
    "plt.show()"
   ]
  },
  {
   "cell_type": "markdown",
   "id": "0013eb0e",
   "metadata": {},
   "source": [
    "### 최적의 K 값 찾기(엘보우 방식)"
   ]
  },
  {
   "cell_type": "code",
   "execution_count": null,
   "id": "ff55d390",
   "metadata": {},
   "outputs": [],
   "source": [
    "from sklearn.cluster import KMeans\n",
    "inertia_list = []\n",
    "for i in range(1,11):\n",
    "    kmeans = KMeans(n_clusters = i, init = 'k-means++', random_state = 0)\n",
    "    kmeans.fit(X)\n",
    "    inertia_list.append(kmeans.inertia_)\n",
    "    #각 지점으로부터 크러스터 중심 까지의 거리의 제곱의 합 \n",
    "\n",
    "    plt.plot(range(1,11), inertia_list)\n",
    "    plt.title"
   ]
  },
  {
   "cell_type": "code",
   "execution_count": null,
   "id": "8c1dc41e",
   "metadata": {},
   "outputs": [],
   "source": []
  },
  {
   "cell_type": "code",
   "execution_count": null,
   "id": "034db04b",
   "metadata": {},
   "outputs": [],
   "source": []
  },
  {
   "cell_type": "code",
   "execution_count": null,
   "id": "4e475846",
   "metadata": {},
   "outputs": [],
   "source": []
  },
  {
   "cell_type": "code",
   "execution_count": null,
   "id": "183e98fb",
   "metadata": {},
   "outputs": [],
   "source": []
  },
  {
   "cell_type": "code",
   "execution_count": null,
   "id": "cb0b2b93",
   "metadata": {},
   "outputs": [],
   "source": []
  },
  {
   "cell_type": "code",
   "execution_count": null,
   "id": "7c6b4c29",
   "metadata": {},
   "outputs": [],
   "source": []
  },
  {
   "cell_type": "code",
   "execution_count": null,
   "id": "19d96e24",
   "metadata": {},
   "outputs": [],
   "source": []
  },
  {
   "cell_type": "code",
   "execution_count": null,
   "id": "262308d6",
   "metadata": {},
   "outputs": [],
   "source": []
  },
  {
   "cell_type": "code",
   "execution_count": null,
   "id": "6f1719d1",
   "metadata": {},
   "outputs": [],
   "source": []
  }
 ],
 "metadata": {
  "kernelspec": {
   "display_name": "Python 3 (ipykernel)",
   "language": "python",
   "name": "python3"
  },
  "language_info": {
   "codemirror_mode": {
    "name": "ipython",
    "version": 3
   },
   "file_extension": ".py",
   "mimetype": "text/x-python",
   "name": "python",
   "nbconvert_exporter": "python",
   "pygments_lexer": "ipython3",
   "version": "3.9.13"
  }
 },
 "nbformat": 4,
 "nbformat_minor": 5
}
