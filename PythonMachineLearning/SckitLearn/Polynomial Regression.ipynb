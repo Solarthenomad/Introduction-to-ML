{
 "cells": [
  {
   "cell_type": "markdown",
   "id": "a773a71b",
   "metadata": {},
   "source": [
    "# 3. Polynomial Regression\n",
    "\n",
    "\n",
    "### 공부 시간에 따른 시험점수(우등생)"
   ]
  },
  {
   "cell_type": "code",
   "execution_count": null,
   "id": "22671157",
   "metadata": {},
   "outputs": [],
   "source": [
    "import numpy as np\n",
    "import matplotlib.pylot as plt\n",
    "import pandas as pd "
   ]
  },
  {
   "cell_type": "code",
   "execution_count": null,
   "id": "16b00c1f",
   "metadata": {},
   "outputs": [],
   "source": [
    "dataset = pd.read_csv('PolynomialRegressionData.csv')"
   ]
  },
  {
   "cell_type": "code",
   "execution_count": null,
   "id": "157d2b89",
   "metadata": {},
   "outputs": [],
   "source": [
    "X = dataset.iloc[:,:-1].values\n",
    "y = dataset.iloc[:,-1].values"
   ]
  },
  {
   "cell_type": "markdown",
   "id": "eaf82142",
   "metadata": {},
   "source": [
    "## 3-1.단순 선형 회귀(Simple Linear Regression)"
   ]
  },
  {
   "cell_type": "code",
   "execution_count": null,
   "id": "11b211e4",
   "metadata": {},
   "outputs": [],
   "source": [
    "from sklearn.linear_model import LinearRegression\n",
    "reg = LinearRegression()\n",
    "#학습 시키기\n",
    "reg.fit(X,y) #전체 데이터 학습 시키기 "
   ]
  },
  {
   "cell_type": "markdown",
   "id": "52afd456",
   "metadata": {},
   "source": [
    "### 전체 데이터 시각화 시키기"
   ]
  },
  {
   "cell_type": "code",
   "execution_count": null,
   "id": "c0c1c25c",
   "metadata": {},
   "outputs": [],
   "source": [
    "plt.scatter(X,y, color = 'blue') #산점도 그리기 \n",
    "plt.plot(X, reg.predict(X,color = 'green')) #선 그래프 그리기\n",
    "plt.title('Score by hours (genius)') #제목\n",
    "plt.xlable('hours') #X 축 이름\n",
    "plt.ylable('score') #y 축 이름\n",
    "plt.show()"
   ]
  },
  {
   "cell_type": "code",
   "execution_count": null,
   "id": "0484efc0",
   "metadata": {},
   "outputs": [],
   "source": [
    "reg.score(X,y) #전체 데이터를 통한 모델 평가 "
   ]
  },
  {
   "cell_type": "markdown",
   "id": "9a60bf27",
   "metadata": {},
   "source": [
    "## 3-2.다항 회귀(Polynomial Regression)"
   ]
  },
  {
   "cell_type": "code",
   "execution_count": 1,
   "id": "cd3a8c1b",
   "metadata": {},
   "outputs": [],
   "source": [
    "from sklearn.preprocessing import PolynomialFeatures\n",
    "poly_reg = PolynomialFeatures(degree = 2) #2차 다항식\n",
    "X_poly = poly_reg.fit_transform(X) #fit_transform = 데이터 처리\n",
    "X_poly[:5] #처음 다섯개만을 출력해주기 \n",
    "#[x] -> [x^0, x^1, x^2] -> x가 3이라면 [1,3,9]으로 변환\n",
    "X[:5]\n",
    "\n"
   ]
  },
  {
   "cell_type": "code",
   "execution_count": null,
   "id": "86944851",
   "metadata": {},
   "outputs": [],
   "source": [
    "poly_reg.get_feature_names_out() \n",
    "#array([x^0, x^1, x^2])가 출력되게 된다. "
   ]
  },
  {
   "cell_type": "code",
   "execution_count": null,
   "id": "aae8c1f0",
   "metadata": {},
   "outputs": [],
   "source": [
    "lin_reg = LinearRegression()\n",
    "lin_reg.fit(X,y) #전체 데이터로 학습한다. \n",
    "#변환된 X와 y를 가지고 모델 생성(학습)\n"
   ]
  },
  {
   "cell_type": "markdown",
   "id": "5330f0f9",
   "metadata": {},
   "source": [
    "#### 데이터 시각화(변환된 X와 y)"
   ]
  },
  {
   "cell_type": "code",
   "execution_count": 3,
   "id": "1aeda58c",
   "metadata": {},
   "outputs": [
    {
     "ename": "NameError",
     "evalue": "name 'plt' is not defined",
     "output_type": "error",
     "traceback": [
      "\u001b[1;31m---------------------------------------------------------------------------\u001b[0m",
      "\u001b[1;31mNameError\u001b[0m                                 Traceback (most recent call last)",
      "\u001b[1;32m~\\AppData\\Local\\Temp\\ipykernel_16972\\2902992571.py\u001b[0m in \u001b[0;36m<module>\u001b[1;34m\u001b[0m\n\u001b[1;32m----> 1\u001b[1;33m \u001b[0mplt\u001b[0m\u001b[1;33m.\u001b[0m\u001b[0mscatter\u001b[0m\u001b[1;33m(\u001b[0m\u001b[0mX\u001b[0m\u001b[1;33m,\u001b[0m \u001b[0my\u001b[0m\u001b[1;33m,\u001b[0m \u001b[0mcolor\u001b[0m \u001b[1;33m=\u001b[0m \u001b[1;34m'blue'\u001b[0m\u001b[1;33m)\u001b[0m\u001b[1;33m\u001b[0m\u001b[1;33m\u001b[0m\u001b[0m\n\u001b[0m",
      "\u001b[1;31mNameError\u001b[0m: name 'plt' is not defined"
     ]
    }
   ],
   "source": [
    "plt.scatter(X, y, color = 'blue')\n",
    "plt.plot(X, lin_reg.predict(poly_reg.fit_transform(X)), color= 'green')\n",
    "plt.title('Score by hours (genious)')\n",
    "plt.xlabel('hours')\n",
    "plt.ylabel('score')\n",
    "plt.show()"
   ]
  },
  {
   "cell_type": "code",
   "execution_count": 4,
   "id": "cd49f829",
   "metadata": {},
   "outputs": [
    {
     "ename": "NameError",
     "evalue": "name 'np' is not defined",
     "output_type": "error",
     "traceback": [
      "\u001b[1;31m---------------------------------------------------------------------------\u001b[0m",
      "\u001b[1;31mNameError\u001b[0m                                 Traceback (most recent call last)",
      "\u001b[1;32m~\\AppData\\Local\\Temp\\ipykernel_16972\\2702103048.py\u001b[0m in \u001b[0;36m<module>\u001b[1;34m\u001b[0m\n\u001b[1;32m----> 1\u001b[1;33m \u001b[0mnp\u001b[0m\u001b[1;33m.\u001b[0m\u001b[0marange\u001b[0m\u001b[1;33m(\u001b[0m\u001b[0mmin\u001b[0m\u001b[1;33m(\u001b[0m\u001b[0mX\u001b[0m\u001b[1;33m)\u001b[0m\u001b[1;33m,\u001b[0m \u001b[0mmax\u001b[0m\u001b[1;33m(\u001b[0m\u001b[0mX\u001b[0m\u001b[1;33m)\u001b[0m\u001b[1;33m,\u001b[0m \u001b[1;36m0\u001b[0m\u001b[1;33m,\u001b[0m\u001b[1;36m1\u001b[0m\u001b[1;33m)\u001b[0m \u001b[1;31m#X의 최고밧에서 최대값까지의 범위를 0.1 단위로 잘라서 데이터를 생성한다.\u001b[0m\u001b[1;33m\u001b[0m\u001b[1;33m\u001b[0m\u001b[0m\n\u001b[0m\u001b[0;32m      2\u001b[0m \u001b[0mX_range\u001b[0m\u001b[1;33m\u001b[0m\u001b[1;33m\u001b[0m\u001b[0m\n",
      "\u001b[1;31mNameError\u001b[0m: name 'np' is not defined"
     ]
    }
   ],
   "source": [
    "np.arange(min(X), max(X), 0,1) #X의 최고밧에서 최대값까지의 범위를 0.1 단위로 잘라서 데이터를 생성한다. \n",
    "X_range\n",
    "X.shape"
   ]
  },
  {
   "cell_type": "code",
   "execution_count": null,
   "id": "e6f423d0",
   "metadata": {},
   "outputs": [],
   "source": [
    "X_range = X_range.reshape(-1, 1) #row 개수는 자동으로 계산하고 column 개수는 1개\n",
    "X_range.shape"
   ]
  },
  {
   "cell_type": "code",
   "execution_count": null,
   "id": "ad7fb4bf",
   "metadata": {},
   "outputs": [],
   "source": [
    "X_range[:5]"
   ]
  },
  {
   "cell_type": "markdown",
   "id": "3830e24d",
   "metadata": {},
   "source": [
    "#### 공부 시간에 따른 시험 성적 예측"
   ]
  },
  {
   "cell_type": "code",
   "execution_count": null,
   "id": "467ca12a",
   "metadata": {},
   "outputs": [],
   "source": [
    "#선형 회귀 모델 \n",
    "\n",
    "reg.predict([[2]]) #2시간을 공부해을 때 선형 회귀 모델의 예측"
   ]
  },
  {
   "cell_type": "code",
   "execution_count": null,
   "id": "0a600130",
   "metadata": {},
   "outputs": [],
   "source": [
    "#다항 회귀 모델\n",
    "lin_reg.predict(poly_reg.fit_transform([[2]])) #2시간을 공부했을 때 다항 회귀 모델의 예측 "
   ]
  },
  {
   "cell_type": "code",
   "execution_count": null,
   "id": "b1753c89",
   "metadata": {},
   "outputs": [],
   "source": [
    "lin_reg.score(X_poly, y)"
   ]
  },
  {
   "cell_type": "code",
   "execution_count": null,
   "id": "6c6f2f75",
   "metadata": {},
   "outputs": [],
   "source": []
  },
  {
   "cell_type": "code",
   "execution_count": null,
   "id": "5e69f952",
   "metadata": {},
   "outputs": [],
   "source": []
  },
  {
   "cell_type": "code",
   "execution_count": null,
   "id": "5d076f62",
   "metadata": {},
   "outputs": [],
   "source": []
  },
  {
   "cell_type": "code",
   "execution_count": null,
   "id": "2414f90c",
   "metadata": {},
   "outputs": [],
   "source": []
  },
  {
   "cell_type": "code",
   "execution_count": null,
   "id": "cb6a64bc",
   "metadata": {},
   "outputs": [],
   "source": []
  },
  {
   "cell_type": "code",
   "execution_count": null,
   "id": "3f1ffd3d",
   "metadata": {},
   "outputs": [],
   "source": []
  }
 ],
 "metadata": {
  "kernelspec": {
   "display_name": "Python 3 (ipykernel)",
   "language": "python",
   "name": "python3"
  },
  "language_info": {
   "codemirror_mode": {
    "name": "ipython",
    "version": 3
   },
   "file_extension": ".py",
   "mimetype": "text/x-python",
   "name": "python",
   "nbconvert_exporter": "python",
   "pygments_lexer": "ipython3",
   "version": "3.9.13"
  }
 },
 "nbformat": 4,
 "nbformat_minor": 5
}
